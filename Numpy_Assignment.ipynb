{
  "nbformat": 4,
  "nbformat_minor": 0,
  "metadata": {
    "colab": {
      "private_outputs": true,
      "provenance": []
    },
    "kernelspec": {
      "name": "python3",
      "display_name": "Python 3"
    },
    "language_info": {
      "name": "python"
    }
  },
  "cells": [
    {
      "cell_type": "code",
      "execution_count": null,
      "metadata": {
        "id": "Nr-aJBYaLWZf"
      },
      "outputs": [],
      "source": [
        "Therotical Questions"
      ]
    },
    {
      "cell_type": "markdown",
      "source": [],
      "metadata": {
        "id": "NzrKsnghL0KZ"
      }
    },
    {
      "cell_type": "code",
      "source": [
        "#1. Explain the purpose and advantages of NumPy in scientific computing and data analysis. How does it\n",
        "# enhance Python's capabilities for numerical operations?\n",
        "#Ans : NumPy is an indispensable tool for scientific computing, data analysis, and numerical computations in Python.\n",
        "#Its ability to efficiently handle arrays, perform complex mathematical operations, and seamlessly\n",
        "#integrate with other libraries solidifies its position as the cornerstone of numerical computing in Python.\n",
        "#NumPy is a Python library that's used for scientific computing and data analysis because it's fast, efficient,\n",
        "#and integrates well with other libraries:\n",
        "\n",
        "#Speed\n",
        "#NumPy is faster than Python lists for mathematical and logical operations on arrays and matrices.\n",
        "#This is because NumPy arrays are made up of similar data types and are packed tightly in memory.\n",
        "#Memory efficiency\n",
        "#NumPy arrays use contiguous memory blocks, which reduces overhead and makes data access and manipulation faster.\n",
        "#Mathematical functions\n",
        "#NumPy has a large collection of mathematical functions for scientific computing, linear algebra, and statistics.\n",
        "#Integration\n",
        "#NumPy integrates with other scientific Python libraries, such as SciPy, Pandas, and Matplotlib.\n",
        "#This allows for a comprehensive suite of tools for data analysis, visualization, and machine learning.\n",
        "#Broadcasting\n",
        "#NumPy's broadcasting capability allows for arithmetic operations between arrays of different shapes and sizes.\n",
        "#Reshaping\n",
        "#NumPy allows you to change the shape of an array without changing its data. This can be useful for preparing\n",
        "#data for visualization or other operations.\n",
        "\n",
        "#Advantages of NumPy\n",
        "\n",
        "#Performance: NumPy’s array operations are executed at compiled C speed, making them significantly faster than equivalent operations\n",
        "# using Python lists. This performance boost is vital for handling large datasets and complex computations efficiently.\n",
        "\n",
        "#Memory Efficiency: NumPy arrays use contiguous memory blocks, reducing overhead compared to Python lists.\n",
        "#This memory efficiency is essential when dealing with extensive datasets and enables faster data access and manipulation.\n",
        "\n",
        "#Extensive Mathematical Functions: NumPy provides a rich collection of mathematical functions, making it an indispensable\n",
        "#tool for scientific computing, linear algebra, statistics, and more. These functions streamline complex calculations and data transformations.\n",
        "\n",
        "#Interoperability: NumPy integrates with other libraries and tools in the scientific Python ecosystem, such as SciPy,\n",
        "#Pandas, Matplotlib, and scikit-learn. This integration allows for a comprehensive data analysis, visualization, and machine learning suite.\n",
        "\n",
        "#NumPy, or Numerical Python, is a crucial package for numerical computing in Python.\n",
        "#It includes the NumPy array, a powerful multidimensional array that allows for fast and flexible operations on large datasets.\n",
        "#NumPy is essential for data science, specifically in array manipulation, mathematical operations, and statistical analysis.\n",
        "#NumPy arrays are more efficient and compact than Python’s built-in sequences, providing faster access for reading and writing items and\n",
        "#are incredibly efficient with NumPy arrays.\n",
        "\n",
        "import numpy as np\n",
        "\n",
        "arr = np.array([1, 2, 3, 4, 5])\n",
        "\n",
        "doubled_arr = arr * 2  # Efficient element-wise multiplication\n",
        "\n",
        "#NumPy offers a range of numeric datatypes such as int32, int64, float32, float64, complex64, and complex128, improving\n",
        "#flexibility and efficiency in numerical computations. Selecting the right datatype can greatly influence memory usage and computational speed,\n",
        "#making NumPy ideal for managing large datasets and high-precision calculations. By explicitly defining datatypes, NumPy ensures efficient\n",
        "#memory usage and optimal computational performance.\n",
        "\n",
        "# Creating arrays with specific datatypes\n",
        "int_array = np.array([1, 2, 3, 4], dtype='int32')\n",
        "float_array = np.array([1.1, 2.2, 3.3], dtype=np.float64)\n",
        "\n",
        "# Performing operations with datatype considerations\n",
        "result = int_array + float_array  # Result is upcasted to float64\n",
        "\n",
        "import numpy as np\n",
        "arr = np.array([1, 2, 3, 4, 5])\n",
        "print(arr)\n",
        "\n",
        "Output:\n",
        "[1 2 3 4 5]\n"
      ],
      "metadata": {
        "id": "JM-JLtLbPj7J"
      },
      "execution_count": null,
      "outputs": []
    },
    {
      "cell_type": "code",
      "source": [
        "#2. Compare and contrast np.mean() and np.average() functions in NumPy. When would you use one over the other?\n",
        "#Ans : In the Numpy library, there are two functions np.mean() and np.average() are present. Both are actually\n",
        "#4doing nearly the same job of calculating mean/average. The difference comes when we are calculating the weighted average.\n",
        "#If that is the case then we have to use np.average(). With np.average function we can calculate both arithmetic mean and weighted average.\n",
        "#In this article, we have shown the basic use case of both functions and how they are different from each other.\n",
        "#Calculation Approach\n",
        "#np.mean() calculates the arithmetic mean of the values in an array. It adds up all the values in the\n",
        "#array and then divides by the total count of values. This results in an unweighted average where every value has the same importance.\n",
        "#np.average() calculates the average of the values, similar to np.mean(). However, it provides more flexibility.\n",
        "#It can calculate both simple averages (unweighted) as well as weighted averages based on specified weights.\n",
        "\n",
        "#Weighted Averages\n",
        "#np.mean() always computes an unweighted average, treating all values equally.\n",
        "#Each value contributes the same amount to the final average.\n",
        "#np.average() can compute both unweighted and weighted averages. Weighted averages allow you to assign different\n",
        "#levels of importance to individual values. Values with higher weights contribute more to the final average.\n",
        "\n",
        "#Use Cases\n",
        "#np.mean() is suitable for scenarios where you want a basic, straightforward average of values without considering different weights.\n",
        "#For instance, calculating the average height of a group of people.\n",
        "#np.average() is valuable when dealing with situations where the significance of values varies.\n",
        "#It's useful when considering factors such as importance, relevance, or impact in the average calculation.\n",
        "#For example, when calculating a student's final grade, you might assign different weights to assignments, quizzes, and exams.\n",
        "\n",
        "#Example\n",
        "#Imagine you have the test scores of a class: [85, 92, 78, 90, 88]. Using np.mean(), you'd calculate (85 + 92 + 78 + 90 + 88) / 5 = 86.6,\n",
        "#the simple average of the scores.\n",
        "#Now, consider a course with assignments and a final exam. The assignments are worth 40% and the final exam is worth 60% of the grade.\n",
        "#You have scores like this: Assignments [80, 95, 88] and Final Exam [75]. Using np.average(), the weighted average would be calculated\n",
        "#as 0.4 * np.mean(assignments) + 0.6 * np.mean(final_exam) = 86.8, considering the varying weights of assignments and the final exam."
      ],
      "metadata": {
        "id": "jBl_WK2vbDW1"
      },
      "execution_count": null,
      "outputs": []
    },
    {
      "cell_type": "code",
      "source": [
        "#3. Describe the methods for reversing a NumPy array along different axes. Provide examples for 1D and 2D arrays.\n",
        "#Ans : Sometimes while programming in Python, we need to use Python to invert a NumPy array.\n",
        "#In Python, the reverse of a NumPy array indicates changing the order. The first element will become the last element,\n",
        "#the second last, the last the first, and so on. There are several methods for reversing a numpy array.\n",
        "\n",
        "#Some of the most frequent methods for reversing a numpy array are as follows:\n",
        "\n",
        "#Utilizing the len() with Loops\n",
        "#Using the list slicing technique\n",
        "#Using the flip() function\n",
        "#Using the reverse() function\n",
        "#Using the flipud() function\n",
        "#Using the fliplr() function\n",
        "#Ready? Let's work together to invert some NumPy arrays!\n",
        "\n",
        "#Using the len() with Loops\n",
        "#To reverse a list, we may use the len() method also known as the two-pointers approach. A developer coming from another programming\n",
        "#language may use the following technique. This is a custom approach, not a built-in one. We'll begin by pointing to the first entry on\n",
        "#our NumPy array. Start with an index variable pointing to zero. We will now proceed to the last entry of our NumPy array, the end index,\n",
        "# we will compute using the len() method. As a result, these functionalities are dependent on the user's expertise and how they built\n",
        "#the custom code.\n",
        "\n",
        "#Consider the following example:\n",
        "\n",
        "Code:\n",
        "\n",
        "def reverse(nums):\n",
        "    start_index = 0\n",
        "    end_index = len(nums)-1\n",
        "    while end_index > start_index:\n",
        "        nums[start_index],nums[end_index] = nums[end_index],nums[start_index]\n",
        "        start_index = start_index + 1\n",
        "        end_index = end_index -1\n",
        "\n",
        "n = [1,2,3,4,5,6,7,8,9,0]\n",
        "reverse(n)\n",
        "print(n)\n",
        "\n",
        "Output:\n",
        "\n",
        "[0, 9, 8, 7, 6, 5, 4, 3, 2, 1]\n",
        "\n",
        "#To convert a 1D array to a 2D array in Python, you can use the reshape() method from the NumPy library.\n",
        "#This method takes the original array and a tuple specifying the desired shape of the new array. Here's how it works:\n",
        "\n",
        "#Reshaping 1D array to 2D array\n",
        "\n",
        "#Let's say you have a 1D array with 12 elements that you want to convert to a 2D array with 4 rows and 3 columns.\n",
        "#Here's how you can do it using NumPy:\n",
        "\n",
        "1 import numpy as np\n",
        "2\n",
        "3 # Create a 1D array with 12 elements\n",
        "4 arr1d = np.array([1, 2, 3, 4, 5, 6, 7, 8, 9, 10, 11, 12])\n",
        "5\n",
        "6 # Reshape the 1D array to a 2D array with 4 rows and 3 columns\n",
        "7 arr2d = arr1d.reshape(4, 3)\n",
        "8\n",
        "9 print(arr2d)\n",
        "\n",
        "Output:\n",
        "\n",
        " 1 [[ 1  2  3]\n",
        " 2 [ 4  5  6]\n",
        " 3 [ 7  8  9]\n",
        " 4 [10 11 12]]\n",
        "\n",
        "#Here, we first create a 1D array with 12 elements using NumPy's array() function. Then, we use the reshape() method to\n",
        "#convert this array to a 2D array with 4 rows and 3 columns. The resulting array arr2d has 4 rows and 3 columns, as desired.\n",
        "\n",
        "#Reshaping 1D array to 2D array with Unknown Rows\n",
        "\n",
        "#If you don't know the number of rows or columns in advance, you can use the -1 placeholder in the reshape() method. Here's an example:\n",
        "\n",
        "1 import numpy as np\n",
        "2\n",
        "3 # Create a 1D array with 12 elements\n",
        "4 arr1d = np.array([1, 2, 3, 4, 5, 6, 7, 8, 9, 10, 11, 12])\n",
        "5\n",
        "6 # Reshape the 1D array to a 2D array with an unknown number of rows and 3 columns\n",
        "7 arr2d = arr1d.reshape(-1, 3)\n",
        "8\n",
        "9 print(arr2d)\n",
        "\n",
        "Output:\n",
        "\n",
        "1 [[ 1  2  3]\n",
        "2  [ 4  5  6]\n",
        "3  [ 7  8  9]\n",
        "4  [10 11 12]]\n",
        "\n",
        "#Here, we use the -1 placeholder in the first argument of the reshape() method to indicate that we want an unknown number of rows.\n",
        "#NumPy automatically calculates the number of rows based on the number of columns and the total number of elements in the array.\n",
        "#The resulting array arr2d is the same as in the previous example."
      ],
      "metadata": {
        "id": "zbEpg7NCriK-"
      },
      "execution_count": null,
      "outputs": []
    },
    {
      "cell_type": "code",
      "source": [
        "#4. How can you determine the data type of elements in a NumPy array? Discuss the importance of data types in memory management and performance.\n",
        "#Ans : Here, are various ways to check NumPy dtype attributes. here we are discussing some generally used methods for checking\n",
        "#NumPy dtype attributes those are following.\n",
        "\n",
        "Using dtype\n",
        "Using array function array().\n",
        "Check NumPy dtype Attributes Using dtype\n",
        "Example 1: Check Integer Datatype\n",
        "\n",
        "In this example, the code snippet utilizes the NumPy library to create an array, ‘arr,’ containing integers.\n",
        "The array is then printed along with its datatype, showcasing the flexibility and simplicity of NumPy for numerical operations in Python.\n",
        "\n",
        "# importing numpy library\n",
        "import numpy as np\n",
        "\n",
        "# creating and initializing an array\n",
        "arr = np.array([1, 2, 3, 23, 56, 100])\n",
        "\n",
        "# printing the array and checking datatype\n",
        "print('Array:', arr)\n",
        "\n",
        "print('Datatype:', arr.dtype)\n",
        "Output:\n",
        "\n",
        "Array: [  1   2   3  23  56 100]\n",
        "Datatype: int32\n",
        "Example 2 : Check String Datatype\n",
        "\n",
        "#In this example, the NumPy library is used to create an array (`arr_1`) containing strings like ‘apple’, ‘ball’, ‘cat’, and ‘dog’.\n",
        "#The script then prints the array and its data type, revealing that the elements are of type Unicode string.\n",
        "\n",
        "\n",
        "import numpy as np\n",
        "\n",
        "# creating and initializing array of string\n",
        "arr_1 = np.array(['apple', 'ball', 'cat', 'dog'])\n",
        "\n",
        "# printing array and its datatype\n",
        "print('Array:', arr_1)\n",
        "\n",
        "print('Datatype:', arr_1.dtype)\n",
        "Output:\n",
        "\n",
        "Array: ['a' 'b' 'c' 'd']\n",
        "Datatype: <U1\n",
        "\n",
        "Using array function array().\n",
        "#Creating the array with a defined datatype. Creating numpy array by using an array function array().\n",
        "#This function takes argument dtype that allows us to define the expected data type of the array elements:\n",
        "\n",
        "#Example 1: In this example code utilizes the NumPy library to create an array ‘arr’ containing elements [1, 2, 3, 8, 7, 5],\n",
        "#with a specified datatype ‘S’ (string). The script then prints both the array and its datatype, showcasing the flexibility of NumPy arrays to\n",
        "#handle various data types.\n",
        "\n",
        "\n",
        "import numpy as np\n",
        "\n",
        "# Creating and initializing array with datatype\n",
        "arr = np.array([1, 2, 3, 8, 7, 5], dtype='S')\n",
        "\n",
        "# printing array and its datatype\n",
        "print(\"Array:\", arr)\n",
        "print(\"Datatype:\", arr.dtype)\n",
        "Output:\n",
        "\n",
        "S is used for defining string datatype. We use i, u, f, S and U for defining various other data types along with their size.\n",
        "\n",
        "Array: [b'1' b'2' b'3' b'8' b'7' b'5']\n",
        "Datatype: |S1\n",
        "\n",
        "#Example 2: In this example a NumPy array named ‘arr’ is created and initialized with values [1, 2, 3, 4],\n",
        " a 32-bit integer datatype (‘i4’). The array and its datatype are then printed using the NumPy library.\n",
        "\n",
        "\n",
        "import numpy as np\n",
        "\n",
        "# creating and initialising array along\n",
        "# with datatype and its size 4 i.e. 32bytes\n",
        "arr = np.array([1, 2, 3, 4], dtype='i4')\n",
        "\n",
        "# printing array and datatype\n",
        "print('Array:', arr)\n",
        "print('Datatype:', arr.dtype)\n",
        "\n",
        "#Data types are important for memory management and performance in programming because they help ensure that the right amount of memory\n",
        "#is allocated for the data, and that the correct operations are performed on it:\n",
        "\n",
        "#Memory allocation\n",
        "#Different data types require different amounts of memory. For example, an integer usually needs less memory than a\n",
        "#floating-point number because it doesn't need to store decimal places. Choosing the right data type can help reduce memory consumption,\n",
        "#which can improve performance and scalability.\n",
        "\n",
        "#Memory access and manipulation\n",
        "#The choice of data type can affect how memory is accessed and manipulated. Larger data types may require more processing power,\n",
        "#which can slow down the program.\n",
        "\n",
        "#Code reliability and efficiency\n",
        "#Data types help enforce code reliability and efficiency. They ensure that operations performed on the data are appropriate and valid.\n",
        "\n"
      ],
      "metadata": {
        "id": "bhMP4wVswvYb"
      },
      "execution_count": null,
      "outputs": []
    },
    {
      "cell_type": "code",
      "source": [
        "#5. Define ndarrays in NumPy and explain their key features. How do they differ from standard Python lists?\n",
        "#Ans : An ndarray is a (usually fixed-size) multidimensional container of items of the same type and size.\n",
        "#The number of dimensions and items in an array is defined by its shape ,\n",
        "#which is a tuple of N non-negative integers that specify the sizes of each dimension.\n",
        "#As with other container objects in Python, the contents of an ndarray can be accessed and modified by indexing or slicing the array\n",
        "#(using, for example, N integers), and via the methods and attributes of the ndarray.\n",
        "\n",
        "#Different ndarrays can share the same data, so that changes made in one ndarray may be visible in another.\n",
        "#That is, an ndarray can be a “view” to another ndarray, and the data it is referring to is taken care of by the “base” ndarray.\n",
        "#ndarrays can also be views to memory owned by Python strings or objects implementing the memoryview or array interfaces.\n",
        "\n",
        "#1 Example\n",
        "\n",
        "A 2-dimensional array of size 2 x 3, composed of 4-byte integer elements:\n",
        "\n",
        "import numpy as np\n",
        "x = np.array([[1, 2, 3], [4, 5, 6]], np.int32)\n",
        "type(x)\n",
        "<class 'numpy.ndarray'>\n",
        "x.shape\n",
        "(2, 3)\n",
        "x.dtype\n",
        "dtype('int32')\n",
        "The array can be indexed using Python container-like syntax:\n",
        "\n",
        "# The element of x in the *second* row, *third* column, namely, 6.\n",
        "x[1, 2]\n",
        "   6\n",
        "#For example slicing can produce views of the array:\n",
        "\n",
        "y = x[:,1]\n",
        "y\n",
        "array([2, 5], dtype=int32)\n",
        "y[0] = 9 # this also changes the corresponding element in x\n",
        "y\n",
        "array([9, 5], dtype=int32)\n",
        "x\n",
        "array([[1, 9, 3],\n",
        "       [4, 5, 6]], dtype=int32)"
      ],
      "metadata": {
        "id": "u5FhmG4q4OgB"
      },
      "execution_count": null,
      "outputs": []
    },
    {
      "cell_type": "code",
      "source": [
        "#6. Analyze the performance benefits of NumPy arrays over Python lists for large-scale numerical operations.\n",
        "#Ans :NumPy arrays have several performance benefits over Python lists, including:\n",
        "#Speed: NumPy arrays are faster than Python lists, especially for large datasets or complex operations. NumPy is built in C and uses\n",
        "#pre-compiled code for numerical operations.\n",
        "\n",
        "#Memory usage: NumPy arrays are more memory efficient than Python lists because each item in a NumPy array is the same data type.\n",
        "\n",
        "#Vectorization: NumPy is designed to be efficient with matrix operations. Vectorization expresses mathematical operations on\n",
        "#entire arrays, rather than individual elements.\n",
        "\n",
        "#Broadcasting: NumPy has a broadcasting feature that makes numerical computing efficient.\n",
        "\n",
        "#Optimized memory management: NumPy has optimized memory management features.\n",
        "\n",
        "#Compatibility: NumPy is compatible with many other Python libraries used in data science, such as Pandas, Matplotlib, and SciPy.\n",
        "\n",
        "#Ease of learning: NumPy is relatively easy to learn, especially for those already familiar with Python.\n",
        "#NumPy arrays are often used in data science, where speed and resources are important.\n",
        "\n",
        "#Numpy array\n",
        "#NumPy is the fundamental package for scientific computing in Python. Numpy arrays facilitate advanced mathematical and other types of\n",
        "#operations on large numbers of data. Typically, such operations are executed more efficiently and with less code than is possible using\n",
        "#Python’s built-in sequences. Numpy is not another programming language but a Python extension module. It provides fast and efficient operations\n",
        "#on arrays of homogeneous data.\n",
        "\n",
        "#Some important points about Numpy arrays:\n",
        "\n",
        "#We can create an N-dimensional array in Python using Numpy.array().\n",
        "#The array is by default Homogeneous, which means data inside an array must be of the same Datatype.\n",
        "#(Note You can also create a structured array in Python).\n",
        "#Element-wise operation is possible.\n",
        "#Numpy array has various functions, methods, and variables, to ease our task of matrix computation.\n",
        "#Elements of an array are stored contiguously in memory. For example, all rows of a two-dimensioned array must have the same number of columns.\n",
        "#A three-dimensional array must have the same number of rows and columns on each card.\n",
        "#Representation of Numpy array\n",
        "#Single Dimensional Numpy Array\n",
        "\n",
        "import numpy as np\n",
        "\n",
        "a = np.array([1, 2, 3])\n",
        "print(a)\n",
        "O\n",
        "\n",
        "[1 2 3]\n",
        "Multi-dimensional Numpy Array\n",
        "\n",
        "\n",
        "import numpy as np\n",
        "\n",
        "a = np.array([(1, 2, 3), (4, 5, 6)])\n",
        "print(a)\n",
        "Output:\n",
        "\n",
        "[[1 2 3]\n",
        "[4 5 6]]\n",
        "\n",
        "# Python List?\n",
        "#A Python list is a collection that is ordered and changeable. In Python, lists are written with square brackets.\n",
        "\n",
        "#Some important points about Python Lists:\n",
        "\n",
        "#The list can be homogeneous or heterogeneous.\n",
        "#Element-wise operation is not possible on the list.\n",
        "#Python list is by default 1-dimensional. But we can create an N-Dimensional list. But then too it will be 1 D list storing another 1D list\n",
        "#Elements of a list need not be contiguous in memory.\n",
        "#Below are some examples which clearly demonstrate how Numpy arrays are better than Python lists by analyzing the\n",
        "#memory consumption, execution time comparison, and operations supported by both of them.\n",
        "\n",
        "#Representation of Python List\n",
        "#Here we are creating Python List using []\n",
        "\n",
        "\n",
        "Var = [\"Geeks\", \"for\", \"Geeks\"]\n",
        "print(Var)\n",
        "Output:\n",
        "\n",
        "[\"Geeks\", \"for\", \"Geeks\"]\n",
        "Comparison between Numpy array and Python List\n",
        "#Python Lists\n",
        "#Element Overhead: Lists in Python store additional information about each element, such as its type and reference count.\n",
        "#This overhead can be significant when dealing with a large number of elements.\n",
        "#Datatype: Lists can hold different data types, but this can decrease memory efficiency and slow numerical operations.\n",
        "#Memory Fragmentation: Lists may not store elements in contiguous memory locations, causing memory fragmentation and inefficiency.\n",
        "#Performance: Lists are not optimized for numerical computations and may have slower mathematical operations due to Python’s interpretation overhead. They are generally used as general-purpose data structures.\n",
        "#Functionality: Lists can store any data type, but lack specialized NumPy functions for numerical operations.\n",
        "\n",
        "#In this example, the incapability of the Python list to carry out a basic operation is demonstrated.\n",
        "#A Python list and a Numpy array having the same elements will be declared and an integer will be added to increment each\n",
        "#element of the container by that integer value without looping statements. The effect of this operation on the Numpy array and\n",
        "#Python list will be analyzed.\n",
        "\n",
        "\n",
        "# importing Numpy package\n",
        "import numpy as np\n",
        "\n",
        "# declaring a list\n",
        "ls =[1, 2, 3]\n",
        "\n",
        "# converting the list into a Numpy array\n",
        "arr = np.array(ls)\n",
        "\n",
        "try:\n",
        "    # adding 4 to each element of list\n",
        "    ls = ls + 4\n",
        "\n",
        "except(TypeError):\n",
        "    print(\"Lists don't support list + int\")\n",
        "\n",
        "# now on array\n",
        "try:\n",
        "    # adding 4 to each element of Numpy array\n",
        "    arr = arr + 4\n",
        "\n",
        "    # printing the Numpy array\n",
        "    print(\"Modified Numpy array: \",arr)\n",
        "\n",
        "except(TypeError):\n",
        "    print(\"Numpy arrays don't support list + int\")\n",
        "Output:\n",
        "\n",
        "Lists don't support list + int\n",
        "Modified Numpy array:  [5 6 7]"
      ],
      "metadata": {
        "id": "5FugPzUXv1sh"
      },
      "execution_count": null,
      "outputs": []
    },
    {
      "cell_type": "code",
      "source": [
        "#7. Compare vstack() and hstack() functions in NumPy. Provide examples demonstrating their usage and output.\n",
        "#Ans : np.hstack\n",
        "#The function np.hstack(tup) takes arguments as tuple which include matrix's/arrays. The hstack function combines the\n",
        "#two or more matrix/arrays horizontally which have the same number of rows. The hstack returns an ndarray.\n",
        "\n",
        "#Lets us consider an example :\n",
        "\n",
        "#Generate a random matrix A of size 5,4 and matrix A of size 5,8\n",
        "import numpy as np\n",
        "A = np.ones((2,2),int)\n",
        "B= np.zeros((2,4),int)\n",
        "print(\"A:\",A,\"\\n\",\"B:\",B)\n",
        "A: [[1 1]\n",
        " [1 1]]\n",
        " B: [[0 0 0 0]\n",
        " [0 0 0 0]]\n",
        "passing the matrix A and B into the hstack as a tuple\n",
        "hstack = np.hstack((A,B))\n",
        "print(hstack)\n",
        "[[1 1 0 0 0 0]\n",
        " [1 1 0 0 0 0]]\n",
        "np.vstack\n",
        "#The function np.vstack(tup) takes arguments as tuple which includes matrix's/arrays. The vstack function\n",
        "#combines the two or more matrix/arrays vertically which have the same number of columns. The vstack returns an ndarray.\n",
        "\n",
        "#Let us consider an example:\n",
        "\n",
        "Consider 2 matrices A and B of size 5,4 and 3,4 respectively.\n",
        "A = np.ones((3,4))\n",
        "B = np.zeros((2,4))\n",
        "print(\"A:\",A,\"\\n\",\"B:\",B)\n",
        "A: [[1. 1. 1. 1.]\n",
        " [1. 1. 1. 1.]\n",
        " [1. 1. 1. 1.]]\n",
        " B: [[0. 0. 0. 0.]\n",
        " [0. 0. 0. 0.]]\n",
        "combining the matrix using np.vstack\n",
        "vstack = np.vstack((A,B))\n",
        "print(vstack)\n",
        "[[1. 1. 1. 1.]\n",
        " [1. 1. 1. 1.]\n",
        " [1. 1. 1. 1.]\n",
        " [0. 0. 0. 0.]\n",
        " [0. 0. 0. 0.]]\n",
        "np.concatenate\n",
        "#The concatenate function takes several arguments: numpy.concatenate((a1, a2, …), axis=0, out=None) where\n",
        "\n",
        "a1 a2 are the arrays.\n",
        "#axis 0 or 1 which specifies whether to concatenate horizontally or vertically.\n",
        "#out can be provided with the destination array or the output array; by default it's none.\n",
        "#The concatenate operation can perform both hstack and vstack and it can be specified by setting the axis.\n",
        "#If the axis is set to 0, it works as vstack and if the axis is 1, it works as hstack.\n",
        "\n",
        "#Let’s take an example:\n",
        "\n",
        "#Generate a matrix A and B of size 2,4 and 2,5\n",
        "#Horizontal concatenation\n",
        "\n",
        "A = np.ones((2,4))\n",
        "B = np.zeros((2,5))\n",
        "print(\"A:\",A,\"\\n\",\"B:\",B)\n",
        "A: [[1. 1. 1. 1.]\n",
        " [1. 1. 1. 1.]]\n",
        " B: [[0. 0. 0. 0. 0.]\n",
        " [0. 0. 0. 0. 0.]]\n",
        "concatenate with respect to axis =0\n",
        "out =  np.concatenate((A,B),axis=1)\n",
        "print(out)\n",
        "[[1. 1. 1. 1. 0. 0. 0. 0. 0.]\n",
        " [1. 1. 1. 1. 0. 0. 0. 0. 0.]]\n",
        "Generate a matrix A and B of size 3,2 and 4,2\n",
        "Vertical concatenation\n",
        "\n",
        "A = np.ones((3,2))\n",
        "B = np.zeros((4,2))\n",
        "print(\"A:\",A,\"\\n\",\"B:\",B)\n",
        "A: [[1. 1.]\n",
        " [1. 1.]\n",
        " [1. 1.]]\n",
        " B: [[0. 0.]\n",
        " [0. 0.]\n",
        " [0. 0.]\n",
        " [0. 0.]]\n",
        "#concatenation with respect to axis 0 or vertical\n",
        "out =  np.concatenate((A,B),axis=0)\n",
        "print(out)\n",
        "[[1. 1.]\n",
        " [1. 1.]\n",
        " [1. 1.]\n",
        " [0. 0.]\n",
        " [0. 0.]\n",
        " [0. 0.]\n",
        " [0. 0.]]\n"
      ],
      "metadata": {
        "id": "lzFuMqkx9jTU"
      },
      "execution_count": null,
      "outputs": []
    },
    {
      "cell_type": "code",
      "source": [
        "#8. Explain the differences between fliplr() and flipud() methods in NumPy, including their effects on various array dimensions.\n",
        "#Ans :vertically: np.flipud()\n",
        "Use numpy.flipud() to flip ndarray vertically. ud means \"Up\" and \"Down\".\n",
        "\n",
        "#numpy.flipud() returns a view. Because a view shares memory with the original array, changing one value changes the other.\n",
        "\n",
        "import numpy as np\n",
        "\n",
        "a_2d = np.arange(6).reshape(2, 3)\n",
        "print(a_2d)\n",
        "# [[0 1 2]\n",
        "#  [3 4 5]]\n",
        "\n",
        "a_2d_flipud = np.flipud(a_2d)\n",
        "print(a_2d_flipud)\n",
        "# [[3 4 5]\n",
        "#  [0 1 2]]\n",
        "\n",
        "print(np.shares_memory(a_2d, a_2d_flipud))\n",
        "# True\n",
        "If you want to process as separate data, use copy().\n",
        "\n",
        "a_2d_flipud_copy = np.flipud(a_2d).copy()\n",
        "print(a_2d_flipud_copy)\n",
        "# [[3 4 5]\n",
        "#  [0 1 2]]\n",
        "\n",
        "print(np.shares_memory(a_2d, a_2d_flipud_copy))\n",
        "# False\n",
        "numpy.flipud() is equivalent to slice [::-1]. The array flips along the first axis.\n",
        "\n",
        "print(a_2d[::-1])\n",
        "# [[3 4 5]\n",
        "#  [0 1 2]]\n",
        "\n",
        "#The same is true for one-dimensional and multi-dimensional arrays of three or more dimensions, where the\n",
        "#array is flipped along the first axis. In the case of one-dimensional array, it is different from the impression of \"vertically\", so be careful.\n",
        "\n",
        "a_1d = np.arange(3)\n",
        "print(a_1d)\n",
        "# [0 1 2]\n",
        "\n",
        "print(np.flipud(a_1d))\n",
        "# [2 1 0]\n",
        "\n",
        "print(a_1d[::-1])\n",
        "# [2 1 0]\n",
        "a_3d = np.arange(24).reshape(2, 3, 4)\n",
        "print(a_3d)\n",
        "# [[[ 0  1  2  3]\n",
        "#   [ 4  5  6  7]\n",
        "#   [ 8  9 10 11]]\n",
        "#\n",
        "#  [[12 13 14 15]\n",
        "#   [16 17 18 19]\n",
        "#   [20 21 22 23]]]\n",
        "\n",
        "print(np.flipud(a_3d))\n",
        "# [[[12 13 14 15]\n",
        "#   [16 17 18 19]\n",
        "#   [20 21 22 23]]\n",
        "#\n",
        "#  [[ 0  1  2  3]\n",
        "#   [ 4  5  6  7]\n",
        "#   [ 8  9 10 11]]]\n",
        "\n",
        "print(a_3d[::-1])\n",
        "# [[[12 13 14 15]\n",
        "#   [16 17 18 19]\n",
        "#   [20 21 22 23]]\n",
        "#\n",
        "#  [[ 0  1  2  3]\n",
        "#   [ 4  5  6  7]\n",
        "#   [ 8  9 10 11]]]\n",
        "\n",
        "horizontally: np.fliplr()\n",
        "#Use numpy.fliplr() to flip ndarray horizontally. lr means \"Left\" and \"Right\".\n",
        "\n",
        "numpy.flipud() returns a view. If you want to process as separate data, you can use copy() as in the example of numpy.flipud().\n",
        "\n",
        "import numpy as np\n",
        "\n",
        "a_2d = np.arange(6).reshape(2, 3)\n",
        "print(a_2d)\n",
        "# [[0 1 2]\n",
        "#  [3 4 5]]\n",
        "\n",
        "a_2d_fliplr = np.fliplr(a_2d)\n",
        "print(a_2d_fliplr)\n",
        "# [[2 1 0]\n",
        "#  [5 4 3]]\n",
        "\n",
        "print(np.shares_memory(a_2d, a_2d_fliplr))\n",
        "# True\n",
        "numpy.fliplr() is equivalent to slice [:, ::-1]. The array flips along the second axis.\n",
        "\n",
        "print(a_2d[:, ::-1])\n",
        "# [[2 1 0]\n",
        "#  [5 4 3]]\n",
        "#The same is true for one-dimensional and multi-dimensional arrays of three or more dimensions, where the array is flipped\n",
        "#along the second axis. Note that in the case of a one-dimensional array, an error is raised because the second axis does not exist.\n",
        "\n",
        "a_1d = np.arange(3)\n",
        "print(a_1d)\n",
        "# [0 1 2]\n",
        "\n",
        "# print(np.fliplr(a_1d))\n",
        "# ValueError: Input must be >= 2-d.\n",
        "a_3d = np.arange(24).reshape(2, 3, 4)\n",
        "print(a_3d)\n",
        "# [[[ 0  1  2  3]\n",
        "#   [ 4  5  6  7]\n",
        "#   [ 8  9 10 11]]\n",
        "#\n",
        "#  [[12 13 14 15]\n",
        "#   [16 17 18 19]\n",
        "#   [20 21 22 23]]]\n",
        "\n",
        "print(np.fliplr(a_3d))\n",
        "# [[[ 8  9 10 11]\n",
        "#   [ 4  5  6  7]\n",
        "#   [ 0  1  2  3]]\n",
        "#\n",
        "#  [[20 21 22 23]\n",
        "#   [16 17 18 19]\n",
        "#   [12 13 14 15]]]\n",
        "\n",
        "print(a_3d[:, ::-1])\n",
        "# [[[ 8  9 10 11]\n",
        "#   [ 4  5  6  7]\n",
        "#   [ 0  1  2  3]]\n",
        "#\n",
        "#  [[20 21 22 23]\n",
        "#   [16 17 18 19]\n",
        "#   [12 13 14 15]]]"
      ],
      "metadata": {
        "id": "YZWkWUQx921H"
      },
      "execution_count": null,
      "outputs": []
    },
    {
      "cell_type": "code",
      "source": [
        "#9. Discuss the functionality of the array_split() method in NumPy. How does it handle uneven splits?\n",
        "#Ans :NumPy arrays are an essential tool for scientific computing. However, at times, it becomes necessary to manipulate and analyze specific parts of the data. This is where array splitting comes into play, allowing you to break down an array into smaller sub-arrays, making the data more manageable. It is similar to slicing but on a larger scale. NumPy provides various methods that are specifically designed for different use cases and scenarios.\n",
        "\n",
        "#NumPy Splitting Array\n",
        "#Array splitting in NumPy is like a slice of cake. Think of each element in a NumPy array as a slice of cake. Splitting divides this “cake”\n",
        "#into smaller “slices” (sub-arrays), often along specific dimensions or based on certain criteria. We can split horizontally, vertically, or\n",
        "#even diagonally depending on our needs.\n",
        "\n",
        "#The split(), hsplit(), vsplit(), and dsplit() functions are important tools for dividing arrays along various axes and dimensions.\n",
        "#These functions are particularly useful when working with one-dimensional arrays, matrices, or high-dimensional datasets. NumPy’s array-splitting\n",
        "#capabilities are crucial for enhancing the efficiency and flexibility of data processing workflows.\n",
        "\n",
        "#Key concepts and terminology\n",
        "#Here are some important terms to understand when splitting arrays:\n",
        "\n",
        "#Axis: The dimension along which the array is split (e.g., rows, columns, depth).\n",
        "#Sub-arrays: The smaller arrays resulting from the split.\n",
        "#Splitting methods: Different functions in NumPy for splitting arrays (e.g., np.split(), np.vsplit(), np.hsplit(), etc.).\n",
        "#Equal vs. Unequal splits: Whether the sub-arrays have the same size or not.\n",
        "\n",
        "\n",
        "\n",
        "import numpy as np\n",
        "Arr = np.array([1, 2, 3, 4, 5, 6])\n",
        "array = np.array_split(arr, 3)\n",
        "print(array)\n",
        "Output:\n",
        "\n",
        "[array([1, 2]), array([3, 4]), array([5, 6])]\n",
        "#Splitting NumPy Arrays in Python\n",
        "#There are many methods to Split Numpy Array in Python using different functions some of them are mentioned below:\n",
        "\n",
        "Split numpy array using numpy.split()\n",
        "Split numpy array using numpy.array_split()\n",
        "Splitting NumPy 2D Arrays\n",
        "Split numpy array using numpy.vsplit()\n",
        "Split numpy array using numpyhsplit()\n",
        "Split numpy arrayusing numpy.dsplit()\n",
        "\n",
        "#1. Splitting Arrays Into Equal Parts using numpy.split()\n",
        "#numpy.split() is a function that divides an array into equal parts along a specified axis. The code imports NumPy creates\n",
        "#an array of numbers (0-5), and then splits it in half (horizontally) using np.split(). The output shows the original array and the two\n",
        "#resulting sub-arrays, each containing 3 elements.\n",
        "\n",
        "import numpy as np\n",
        "\n",
        "# Creating an example array\n",
        "array = np.arange(6)\n",
        "\n",
        "# Splitting the array into 2 equal parts along the first axis (axis=0)\n",
        "result = np.split(array, 2)\n",
        "\n",
        "print(\"Array:\")\n",
        "print(array)\n",
        "print(\"\\nResult after numpy.split():\")\n",
        "print(result)\n",
        "Output:\n",
        "\n",
        "Array:\n",
        "[0 1 2 3 4 5]\n",
        "Result after numpy.split():\n",
        "[array([0, 1, 2]), array([3, 4, 5])]\n",
        "\n",
        "#2. Unequal Splitting of Arrays using numpy.array_split()\n",
        "#numpy.array_split() splitting into equal or nearly equal sub-arrays or is similar to numpy.split(),\n",
        "#but it allows for uneven splitting of arrays. This is useful when the array cannot be evenly divided by the specified number of splits.\n",
        "#numpy.array_split(array, 4) splits the array into four parts, accommodating the uneven division.\n",
        "\n",
        "import numpy as np\n",
        "\n",
        "# Creating an example array\n",
        "array = np.arange(13)\n",
        "\n",
        "# Splitting the array into 4 unequal parts along the first axis (axis=0)\n",
        "result = np.array_split(array, 4)\n",
        "\n",
        "print(\"Array:\")\n",
        "print(array)\n",
        "print(\"\\nResult after numpy.array_split():\")\n",
        "print(result)\n",
        "\n",
        "Output:\n",
        "\n",
        "Array:\n",
        "[ 0  1  2  3  4  5  6  7  8  9 10 11 12]\n",
        "Result after numpy.array_split():\n",
        "[array([0, 1, 2, 3]), array([4, 5, 6]), array([7, 8, 9]), array([10, 11, 12])]"
      ],
      "metadata": {
        "id": "tzfRpLbe-JFO"
      },
      "execution_count": null,
      "outputs": []
    },
    {
      "cell_type": "code",
      "source": [
        "#10. Explain the concepts of vectorization and broadcasting in NumPy. How do they contribute to efficient array operations?\n",
        "#Ans :Broadcasting provides a means of vectorizing array operations so that looping occurs in C instead of Python.\n",
        "#It does this without making needless copies of data and usually leads to efficient algorithm implementations. There are also\n",
        "#cases where broadcasting is a bad idea because it leads to inefficient use of memory that slows computation. This article provides a\n",
        "#gentle introduction to broadcasting with numerous examples ranging from simple to involved. It also provides hints on when and when\n",
        "#not to use broadcasting.\n",
        "\n",
        "#numpy operations are usually done element-by-element which requires two arrays to have exactly the same shape:\n",
        "\n",
        "Example 1\n",
        ">>> from numpy import array\n",
        ">>> a = array([1.0, 2.0, 3.0])\n",
        ">>> b = array([2.0, 2.0, 2.0])\n",
        ">>> a * b\n",
        "array([ 2.,  4.,  6.])\n",
        "#numpy’s broadcasting rule relaxes this constraint when the arrays’ shapes meet certain constraints.\n",
        "#The simplest broadcasting example occurs when an array and a scalar value are combined in an operation:\n",
        "\n",
        "Example 2\n",
        ">>> from numpy import array\n",
        ">>> a = array([1.0,2.0,3.0])\n",
        ">>> b = 2.0\n",
        ">>> a * b\n",
        "array([ 2.,  4.,  6.])\n",
        "#The result is equivalent to the previous example where b was an array. We can think of the scalar b being stretched during\n",
        "#the arithmetic operation into an array with the same shape as a. The new elements in b, as shown in Figure 1, are simply copies\n",
        "#of the original scalar. The stretching analogy is only conceptual. numpy is smart enough to use the original scalar value without\n",
        "#actually making copies so that broadcasting operations are as memory and computationally efficient as possible. Because Example 2\n",
        "#moves less memory, (b is a scalar, not an array) around during the multiplication,\n",
        "#it is about 10% faster than Example 1 using the standard numpy on Windows 2000 with one million element arrays.\n"
      ],
      "metadata": {
        "id": "Y2fc_sX4-dyn"
      },
      "execution_count": null,
      "outputs": []
    },
    {
      "cell_type": "markdown",
      "source": [
        "Practical Questions"
      ],
      "metadata": {
        "id": "FgkmIXMNxvIi"
      }
    },
    {
      "cell_type": "code",
      "source": [
        "#1. Create a 3x3 NumPy array with random integers between 1 and 100. Then, interchange its rows and columns.\n",
        "#Ans :\n"
      ],
      "metadata": {
        "id": "50VNHLHSx3cg"
      },
      "execution_count": null,
      "outputs": []
    },
    {
      "cell_type": "code",
      "source": [
        "import numpy as np\n",
        "arr = np.random.randint(1,101,size=(3,3))\n",
        "print(arr)"
      ],
      "metadata": {
        "id": "MThY8RMfcuSH"
      },
      "execution_count": null,
      "outputs": []
    },
    {
      "cell_type": "code",
      "source": [
        "#interchange rows and columns\n",
        "\n",
        "interchanger_arr = arr.T\n",
        "print(interchanger_arr)\n"
      ],
      "metadata": {
        "id": "Iq2euF-cdC5h"
      },
      "execution_count": null,
      "outputs": []
    },
    {
      "cell_type": "code",
      "source": [
        "#2. Generate a 1D NumPy array with 10 elements. Reshape it into a 2x5 array, then into a 5x2 array.\n",
        "#Ans :"
      ],
      "metadata": {
        "id": "pcqgQBHFWfJZ"
      },
      "execution_count": null,
      "outputs": []
    },
    {
      "cell_type": "code",
      "source": [
        "import numpy as np\n",
        "arr_1d = np.arange(10)\n",
        "print(arr_1d)\n"
      ],
      "metadata": {
        "id": "HEYAsMWFdL-f"
      },
      "execution_count": null,
      "outputs": []
    },
    {
      "cell_type": "code",
      "source": [
        "#reshape it into 2x5\n",
        "\n",
        "arr_2 = arr_1d.reshape(2,5)\n",
        "print(arr_2)\n"
      ],
      "metadata": {
        "id": "gZI0TuzUdzTM"
      },
      "execution_count": null,
      "outputs": []
    },
    {
      "cell_type": "code",
      "source": [
        "#reshape it into 5x2\n",
        "\n",
        "arr_3 = arr_2.reshape(5,2)\n",
        "print(arr_3)"
      ],
      "metadata": {
        "id": "1uhG8EKOd-h1"
      },
      "execution_count": null,
      "outputs": []
    },
    {
      "cell_type": "code",
      "source": [
        "#3. Create a 4x4 NumPy array with random float values. Add a border of zeros around it, resulting in a 6x6 array.\n",
        "#Ans :"
      ],
      "metadata": {
        "id": "LJ_MlGDWWn9L"
      },
      "execution_count": null,
      "outputs": []
    },
    {
      "cell_type": "code",
      "source": [
        "import numpy as np\n",
        "arr = np.random.rand(4,4)\n",
        "print(arr)\n",
        ""
      ],
      "metadata": {
        "id": "5hwqlYfodVki"
      },
      "execution_count": null,
      "outputs": []
    },
    {
      "cell_type": "code",
      "source": [
        "#add a border of zeros\n",
        "\n",
        "arr_border = np.pad(arr, pad_width=1, mode='constant', constant_values=0)\n",
        "print(arr_border)"
      ],
      "metadata": {
        "id": "rEzWgKjueTAe"
      },
      "execution_count": null,
      "outputs": []
    },
    {
      "cell_type": "code",
      "source": [
        "#4. Using NumPy, create an array of integers from 10 to 60 with a step of 5.\n",
        "#Ans :"
      ],
      "metadata": {
        "id": "UtXEvyjTWuzk"
      },
      "execution_count": null,
      "outputs": []
    },
    {
      "cell_type": "code",
      "source": [
        "import numpy as np\n",
        "arr = np.arange(10,61,5)\n",
        "print(arr)"
      ],
      "metadata": {
        "id": "DwW1bHaReMpZ"
      },
      "execution_count": null,
      "outputs": []
    },
    {
      "cell_type": "code",
      "source": [
        "#5. Create a NumPy array of strings ['python', 'numpy', 'pandas']. Apply different case transformations(uppercase, lowercase, title case, etc.) to each element.\n",
        "#Ans :"
      ],
      "metadata": {
        "id": "Fd_59m9KW5eH"
      },
      "execution_count": null,
      "outputs": []
    },
    {
      "cell_type": "code",
      "source": [
        "import numpy as np\n",
        "arr = np.array(['python', 'numpy', 'pandas'])\n",
        "print(arr)\n",
        ""
      ],
      "metadata": {
        "id": "82PcHTAUea6B"
      },
      "execution_count": null,
      "outputs": []
    },
    {
      "cell_type": "code",
      "source": [
        "#applying uppercase\n",
        "\n",
        "arr_upper = np.char.upper(arr)\n",
        "print(arr_upper)"
      ],
      "metadata": {
        "id": "gon2xsuPekby"
      },
      "execution_count": null,
      "outputs": []
    },
    {
      "cell_type": "code",
      "source": [
        "#applying lowercase\n",
        "\n",
        "arr_lower = np.char.lower(arr)\n",
        "print(arr_lower)\n",
        ""
      ],
      "metadata": {
        "id": "MiqeEsgCetX3"
      },
      "execution_count": null,
      "outputs": []
    },
    {
      "cell_type": "code",
      "source": [
        "#applying title case\n",
        "\n",
        "arr_title = np.char.title(arr)\n",
        "print(arr_title)"
      ],
      "metadata": {
        "id": "hNDsGoW8e4bU"
      },
      "execution_count": null,
      "outputs": []
    },
    {
      "cell_type": "code",
      "source": [
        "#6. Generate a NumPy array of words. Insert a space between each character of every word in the array.\n",
        "#Ans :"
      ],
      "metadata": {
        "id": "yHTHg6afXJKr"
      },
      "execution_count": null,
      "outputs": []
    },
    {
      "cell_type": "code",
      "source": [
        "import numpy as np\n",
        "words_array = np.array(['pw','skills'])\n",
        "print(words_array)"
      ],
      "metadata": {
        "id": "Za35oZN3e-FW"
      },
      "execution_count": null,
      "outputs": []
    },
    {
      "cell_type": "code",
      "source": [
        "#insert a space between each word\n",
        "\n",
        "spaced_array = np.char.join(' ', words_array)\n",
        "print(spaced_array)"
      ],
      "metadata": {
        "id": "QMtOgIkTfOuF"
      },
      "execution_count": null,
      "outputs": []
    },
    {
      "cell_type": "code",
      "source": [
        "#7. Create two 2D NumPy arrays and perform element-wise addition, subtraction, multiplication, and division.\n",
        "#Ans :"
      ],
      "metadata": {
        "id": "cYEZYx2kXQZI"
      },
      "execution_count": null,
      "outputs": []
    },
    {
      "cell_type": "code",
      "source": [
        "import numpy as np\n",
        "array1 = np.array([[2,2,3]])\n",
        "array2 = np.array([[2,2,2]])\n",
        "print(array1,array2)"
      ],
      "metadata": {
        "id": "sSINaXGpfiJ2"
      },
      "execution_count": null,
      "outputs": []
    },
    {
      "cell_type": "code",
      "source": [
        "#perform element wise addition\n",
        "\n",
        "print(array1+array2)"
      ],
      "metadata": {
        "id": "tWF7APnhftjF"
      },
      "execution_count": null,
      "outputs": []
    },
    {
      "cell_type": "code",
      "source": [
        "#subtraction\n",
        "\n",
        "print(array1-array2)"
      ],
      "metadata": {
        "id": "nzWpTG5jfz6Q"
      },
      "execution_count": null,
      "outputs": []
    },
    {
      "cell_type": "code",
      "source": [
        "#multiplication\n",
        "\n",
        "print(array1*array2)"
      ],
      "metadata": {
        "id": "3xyj2VXwf6l0"
      },
      "execution_count": null,
      "outputs": []
    },
    {
      "cell_type": "code",
      "source": [
        "#division\n",
        "\n",
        "print(array1/array2)"
      ],
      "metadata": {
        "id": "g_qcRWiegF4q"
      },
      "execution_count": null,
      "outputs": []
    },
    {
      "cell_type": "code",
      "source": [
        "#8. Use NumPy to create a 5x5 identity matrix, then extract its diagonal elements.\n",
        "#Ans :"
      ],
      "metadata": {
        "id": "UGHF2d8EXV6w"
      },
      "execution_count": null,
      "outputs": []
    },
    {
      "cell_type": "code",
      "source": [
        "import numpy as np\n",
        "arr = np.eye(5)\n",
        "print(arr)"
      ],
      "metadata": {
        "id": "SUZxM_1ngWK5"
      },
      "execution_count": null,
      "outputs": []
    },
    {
      "cell_type": "code",
      "source": [
        "#extract its diagonal elements\n",
        "\n",
        "print(np.diag(arr))"
      ],
      "metadata": {
        "id": "uVVuQzM8ghnL"
      },
      "execution_count": null,
      "outputs": []
    },
    {
      "cell_type": "code",
      "source": [
        "#9. Generate a NumPy array of 100 random integers between 0 and 1000. Find and display all prime numbers in this array.\n",
        "#Ans :"
      ],
      "metadata": {
        "id": "95YlfhQKXdZb"
      },
      "execution_count": null,
      "outputs": []
    },
    {
      "cell_type": "code",
      "source": [
        "import numpy as np\n",
        "\n",
        "def is_prime(n):\n",
        "  \"\"\"Checks if a number is prime.\"\"\"\n",
        "  if n <= 1:\n",
        "    return False\n",
        "  for i in range(2, int(n**0.5) + 1):\n",
        "    if n % i == 0:\n",
        "      return False\n",
        "  return True\n",
        ""
      ],
      "metadata": {
        "id": "42HUeOrtgksC"
      },
      "execution_count": null,
      "outputs": []
    },
    {
      "cell_type": "code",
      "source": [
        "import numpy as np\n",
        "arr = np.random.randint(0,1001,size=100)\n",
        "print(arr)\n",
        ""
      ],
      "metadata": {
        "id": "sUBgMcfVgwoE"
      },
      "execution_count": null,
      "outputs": []
    },
    {
      "cell_type": "code",
      "source": [
        "prime_numbers = [num for num in arr if is_prime(num)]\n",
        "print(\"Prime numbers in the array:\", prime_numbers)\n"
      ],
      "metadata": {
        "id": "yg0ykxXYgzoj"
      },
      "execution_count": null,
      "outputs": []
    },
    {
      "cell_type": "code",
      "source": [
        "#10. Create a NumPy array representing daily temperatures for a month. Calculate and display the weekly averages.\n",
        "#Ans :"
      ],
      "metadata": {
        "id": "RHMZZgfpXlqc"
      },
      "execution_count": null,
      "outputs": []
    },
    {
      "cell_type": "code",
      "source": [
        "import numpy as np\n",
        "temperatures = np.random.randint(10,40,size=30)\n",
        "print(temperatures)\n",
        ""
      ],
      "metadata": {
        "id": "e_S-2TYAhX-z"
      },
      "execution_count": null,
      "outputs": []
    },
    {
      "cell_type": "code",
      "source": [
        "weekly_averages = np.array_split(temperatures,4)\n",
        "print(weekly_averages)"
      ],
      "metadata": {
        "id": "zMTybP7phZSs"
      },
      "execution_count": null,
      "outputs": []
    },
    {
      "cell_type": "code",
      "source": [
        "weekly_averages = [np.mean(week) for week in weekly_averages]\n",
        "print(weekly_averages)\n",
        "\n"
      ],
      "metadata": {
        "id": "XxbiRykRhmu4"
      },
      "execution_count": null,
      "outputs": []
    },
    {
      "cell_type": "code",
      "source": [],
      "metadata": {
        "id": "zVdBEtoLh4QA"
      },
      "execution_count": null,
      "outputs": []
    }
  ]
}